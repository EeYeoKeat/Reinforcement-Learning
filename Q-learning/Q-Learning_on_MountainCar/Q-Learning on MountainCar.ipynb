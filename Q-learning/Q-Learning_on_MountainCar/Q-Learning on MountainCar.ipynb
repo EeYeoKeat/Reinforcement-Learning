{
 "cells": [
  {
   "cell_type": "code",
   "execution_count": 1,
   "metadata": {},
   "outputs": [],
   "source": [
    "import gym\n",
    "import numpy as np\n",
    "import matplotlib.pyplot as plt"
   ]
  },
  {
   "cell_type": "code",
   "execution_count": 2,
   "metadata": {},
   "outputs": [
    {
     "data": {
      "text/plain": [
       "array([-0.51228494,  0.        ])"
      ]
     },
     "execution_count": 2,
     "metadata": {},
     "output_type": "execute_result"
    }
   ],
   "source": [
    "env = gym.make(\"MountainCar-v0\")\n",
    "env.reset()\n",
    "\n",
    "# done = False"
   ]
  },
  {
   "cell_type": "code",
   "execution_count": 3,
   "metadata": {},
   "outputs": [
    {
     "name": "stdout",
     "output_type": "stream",
     "text": [
      "[0.6  0.07]\n",
      "[-1.2  -0.07]\n",
      "3\n",
      "[0.09  0.007]\n"
     ]
    }
   ],
   "source": [
    "print(env.observation_space.high)\n",
    "print(env.observation_space.low)\n",
    "print(env.action_space.n)\n",
    "\n",
    "# make entire range from 0.6 to -1.2 to be seperated into 20 discrete value\n",
    "DISCRETE_OS_SIZE = [20] * len(env.observation_space.high)\n",
    "discrete_os_win_size = (env.observation_space.high - env.observation_space.low)/DISCRETE_OS_SIZE\n",
    "\n",
    "print(discrete_os_win_size)"
   ]
  },
  {
   "cell_type": "code",
   "execution_count": 4,
   "metadata": {},
   "outputs": [
    {
     "name": "stdout",
     "output_type": "stream",
     "text": [
      "(8, 10)\n"
     ]
    }
   ],
   "source": [
    "def get_discrete_state(state):\n",
    "    discrete_state = (state - env.observation_space.low) / discrete_os_win_size\n",
    "    return tuple(discrete_state.astype(np.int))\n",
    "\n",
    "#only initialize the first \n",
    "discrete_state = get_discrete_state(env.reset())\n",
    "\n",
    "print(discrete_state)"
   ]
  },
  {
   "cell_type": "code",
   "execution_count": 5,
   "metadata": {},
   "outputs": [
    {
     "name": "stdout",
     "output_type": "stream",
     "text": [
      "(20, 20, 3)\n",
      "[-1.74155139 -0.43682053 -0.17652743]\n",
      "2\n"
     ]
    }
   ],
   "source": [
    "#initialize array with random number between -2 to 0 with size of 20 x 20 x 3\n",
    "q_table = np.random.uniform(low=-2, high=0, size=(DISCRETE_OS_SIZE + [env.action_space.n]))\n",
    "\n",
    "# check the dimension size of table\n",
    "print(q_table.shape)\n",
    "\n",
    "print(q_table[discrete_state])\n",
    "\n",
    "# simply check for max q value from table\n",
    "# it will return 0 to 2 indicate as action 0, 1 or 2\n",
    "print(np.argmax(q_table[discrete_state]))"
   ]
  },
  {
   "cell_type": "code",
   "execution_count": 6,
   "metadata": {
    "scrolled": true
   },
   "outputs": [
    {
     "name": "stdout",
     "output_type": "stream",
     "text": [
      "Episode:     0, average reward: -2.0, current epsilon: 0.50\n",
      "Episode:   100, average reward: -200.0, current epsilon: 0.30\n",
      "Episode:   200, average reward: -200.0, current epsilon: 0.10\n",
      "Episode:   300, average reward: -200.0, current epsilon: -0.00\n",
      "It completed on episode 355\n",
      "Episode:   400, average reward: -199.7, current epsilon: -0.00\n"
     ]
    },
    {
     "data": {
      "image/png": "[encoded data removed]",
      "text/plain": [
       "<Figure size 432x288 with 1 Axes>"
      ]
     },
     "metadata": {
      "needs_background": "light"
     },
     "output_type": "display_data"
    }
   ],
   "source": [
    "LEARNING_RATE = 0.1\n",
    "DISCOUNT = 0.95\n",
    "EPISODES = 500\n",
    "epsilon = 0.5\n",
    "START_EPSILON_DECAYING = 1\n",
    "END_EPSILON_DECAYING = EPISODES // 2\n",
    "STATS_EVERY = 100\n",
    "\n",
    "epsilon_decay_value = epsilon/(END_EPSILON_DECAYING - START_EPSILON_DECAYING)\n",
    "# For stats\n",
    "ep_rewards = []\n",
    "aggr_ep_rewards = {'ep': [], 'avg': [], 'max': [], 'min': []}\n",
    "\n",
    "for episode in range(EPISODES):\n",
    "    episode_reward = 0\n",
    "    discrete_state = get_discrete_state(env.reset())\n",
    "    done = False\n",
    "    while not done:\n",
    "        action = np.argmax(q_table[discrete_state])\n",
    "        new_state, reward, done, _ = env.step(action)\n",
    "        episode_reward += reward\n",
    "        new_discrete_state = get_discrete_state(new_state)\n",
    "        #print(new_state)\n",
    "        env.render()\n",
    "        if not done:\n",
    "            max_future_q = np.max(q_table[new_discrete_state])\n",
    "            # The trailing comma for tuples, lists, or function arguments is good style especially\n",
    "            # when have a long initialisation that is split over multiple lines\n",
    "            # In the case of a single element tuple, the trailing comma is required\n",
    "            # below line will return only the q value\n",
    "            current_q = q_table[discrete_state + (action, )]\n",
    "\n",
    "            new_q = (1 - LEARNING_RATE) *current_q + LEARNING_RATE * (reward + DISCOUNT * max_future_q)\n",
    "            q_table[discrete_state + (action, )] = new_q\n",
    "        elif new_state[0] >= env.goal_position:\n",
    "            q_table[discrete_state + (action, )] = 0\n",
    "            print(\"It completed on episode {}\".format(episode))\n",
    "\n",
    "        discrete_state = new_discrete_state\n",
    "    \n",
    "    if END_EPSILON_DECAYING >= episode >= START_EPSILON_DECAYING:\n",
    "        epsilon -= epsilon_decay_value\n",
    "    \n",
    "    ep_rewards.append(episode_reward)\n",
    "    \n",
    "    if episode % 100 == 0:\n",
    "        np.save(f\"qtables/{episode}-qtable.npy\", q_table)\n",
    "        \n",
    "    if not episode % STATS_EVERY:\n",
    "            average_reward = sum(ep_rewards[-STATS_EVERY:])/STATS_EVERY\n",
    "            aggr_ep_rewards['ep'].append(episode)\n",
    "            aggr_ep_rewards['avg'].append(average_reward)\n",
    "            aggr_ep_rewards['max'].append(max(ep_rewards[-STATS_EVERY:]))\n",
    "            aggr_ep_rewards['min'].append(min(ep_rewards[-STATS_EVERY:]))\n",
    "            \n",
    "            print(f'Episode: {episode:>5d}, average reward: {average_reward:>4.1f}, current epsilon: {epsilon:>1.2f}')\n",
    "\n",
    "            \n",
    "env.close()\n",
    "\n",
    "plt.plot(aggr_ep_rewards['ep'], aggr_ep_rewards['avg'], label=\"average rewards\")\n",
    "plt.plot(aggr_ep_rewards['ep'], aggr_ep_rewards['max'], label=\"max rewards\")\n",
    "plt.plot(aggr_ep_rewards['ep'], aggr_ep_rewards['min'], label=\"min rewards\")\n",
    "plt.legend(loc=4)\n",
    "plt.show()"
   ]
  },
  {
   "cell_type": "code",
   "execution_count": null,
   "metadata": {},
   "outputs": [],
   "source": []
  }
 ],
 "metadata": {
  "kernelspec": {
   "display_name": "Python 3",
   "language": "python",
   "name": "python3"
  },
  "language_info": {
   "codemirror_mode": {
    "name": "ipython",
    "version": 3
   },
   "file_extension": ".py",
   "mimetype": "text/x-python",
   "name": "python",
   "nbconvert_exporter": "python",
   "pygments_lexer": "ipython3",
   "version": "3.6.8"
  }
 },
 "nbformat": 4,
 "nbformat_minor": 2
}
