{
 "cells": [
  {
   "cell_type": "code",
   "execution_count": 29,
   "metadata": {},
   "outputs": [],
   "source": [
    "import numpy as np\n",
    "import pandas as pd\n",
    "import matplotlib.pyplot as plt\n",
    "import gym_bandits\n",
    "import gym\n",
    "import math\n",
    "env = gym.make(\"BanditTenArmedGaussian-v0\")"
   ]
  },
  {
   "cell_type": "code",
   "execution_count": 9,
   "metadata": {},
   "outputs": [
    {
     "data": {
      "text/plain": [
       "Discrete(10)"
      ]
     },
     "execution_count": 9,
     "metadata": {},
     "output_type": "execute_result"
    }
   ],
   "source": [
    "env.action_space"
   ]
  },
  {
   "cell_type": "code",
   "execution_count": 21,
   "metadata": {},
   "outputs": [],
   "source": [
    "def initialize_Q(num_arms):\n",
    "    return np.zeros(num_arms)"
   ]
  },
  {
   "cell_type": "code",
   "execution_count": 38,
   "metadata": {},
   "outputs": [],
   "source": [
    "num_rounds = 20000\n",
    "\n",
    "# random initialize Q value which is the average reward\n",
    "Q_epsilon = Q_softmax = Q_UCB = Q_TS = alpha = beta = count = sum_rewards = initialize_Q(10)"
   ]
  },
  {
   "cell_type": "code",
   "execution_count": 32,
   "metadata": {},
   "outputs": [],
   "source": [
    "def epsilon_greedy(epsilon):\n",
    "    \n",
    "    if np.random.random() < epsilon:\n",
    "        action = env.action_space.sample()\n",
    "    else: \n",
    "        action = np.argmax(Q)\n",
    "        \n",
    "    return action\n",
    "\n",
    "def softmax(tau):\n",
    "    total = sum([math.exp(val/tau) for val in Q])\n",
    "    probs = [math.exp(val/tau)/total for val in Q]\n",
    "    threshold = random.random()\n",
    "    cumulative_prob = 0.0\n",
    "    \n",
    "    for i in range(len(probs)):\n",
    "        cumulative_prob += probs[i]\n",
    "        if (cumulative_prob > threshold):\n",
    "            return i\n",
    "    return np.argmax(probs)\n",
    "\n",
    "def UCB(iters):\n",
    "    \n",
    "    ucb = np.zeros(10)\n",
    "    # check if consists at least 10 sample\n",
    "    \n",
    "    if iters < 10:\n",
    "        return i\n",
    "    \n",
    "    else:\n",
    "        for arm in range(10):\n",
    "            # calculate upper bound\n",
    "            upper_bound = math.sqrt((2*math.log(sum(count))) / count[arm])\n",
    "\n",
    "            # add upper bound to the Q value\n",
    "            ucb[arm] = Q_UCB[arm] + upper_bound\n",
    "        \n",
    "    # return the arm which has maximum value\n",
    "    return (np.argmax(ucb))"
   ]
  },
  {
   "cell_type": "code",
   "execution_count": 33,
   "metadata": {},
   "outputs": [
    {
     "name": "stdout",
     "output_type": "stream",
     "text": [
      "The optimal arm is 0\n"
     ]
    }
   ],
   "source": [
    "for i in range(num_rounds):\n",
    "    # Select the arm using UCB\n",
    "    arm = UCB(i)\n",
    "    # Get the reward\n",
    "    observation, reward, done, info = env.step(arm)\n",
    "    # update the count of that arm\n",
    "    count[arm] += 1\n",
    "    # Sum the rewards obtained from the arm\n",
    "    sum_rewards[arm]+=reward\n",
    "    # calculate Q value which is the average rewards of the arm\n",
    "    Q_UCB[arm] = sum_rewards[arm]/count[arm]\n",
    "    \n",
    "print( 'The optimal arm is {}'.format(np.argmax(Q)))"
   ]
  },
  {
   "cell_type": "code",
   "execution_count": 39,
   "metadata": {},
   "outputs": [
    {
     "name": "stdout",
     "output_type": "stream",
     "text": [
      "The optimal arm is 0\n"
     ]
    }
   ],
   "source": [
    "def thompson_sampling(alpha,beta):\n",
    "    samples = [np.random.beta(alpha[i]+1,beta[i]+1) for i in range(10)]\n",
    "    return np.argmax(samples)\n",
    "\n",
    "for i in range(num_rounds):\n",
    "\n",
    "    arm = thompson_sampling(alpha,beta)\n",
    "\n",
    "    observation, reward, done, info = env.step(arm)\n",
    "\n",
    "    count[arm] += 1\n",
    "\n",
    "    sum_rewards[arm]+=reward\n",
    "\n",
    "    Q[arm] = sum_rewards[arm]/count[arm]\n",
    "    \n",
    "    # If it is a positive reward increment alpha\n",
    "    if reward >0:\n",
    "        alpha[arm] += 1\n",
    "    # If it is a negative reward increment beta\n",
    "    else:\n",
    "        beta[arm] += 1\n",
    "\n",
    "print( 'The optimal arm is {}'.format(np.argmax(Q)))"
   ]
  },
  {
   "cell_type": "code",
   "execution_count": 16,
   "metadata": {},
   "outputs": [
    {
     "name": "stdout",
     "output_type": "stream",
     "text": [
      "The optimal arm is 4\n"
     ]
    }
   ],
   "source": [
    "for i in range(num_rounds):\n",
    "\n",
    "    # arm using epsilon greedy\n",
    "    arm = epsilon_greedy(0.5)\n",
    "    \n",
    "    # arm using softmax\n",
    "    arm = softmax(0.5)\n",
    "\n",
    "    observation, reward, done, info = env.step(arm)\n",
    "\n",
    "    count[arm] += 1\n",
    "\n",
    "    sum_rewards[arm]+=reward\n",
    "\n",
    "    # calculate Q value which is the average rewards of the arm\n",
    "    Q[arm] = sum_rewards[arm]/count[arm]\n",
    "    \n",
    "print( 'The optimal arm is {}'.format(np.argmax(Q)))"
   ]
  },
  {
   "cell_type": "code",
   "execution_count": 18,
   "metadata": {},
   "outputs": [
    {
     "data": {
      "text/plain": [
       "array([ 1.19831264,  0.33350828,  0.76601153, -0.3355797 ,  2.0204708 ,\n",
       "       -0.98286558,  1.66036175, -0.47403209,  0.23711068, -0.55311812])"
      ]
     },
     "execution_count": 18,
     "metadata": {},
     "output_type": "execute_result"
    }
   ],
   "source": [
    "Q"
   ]
  },
  {
   "cell_type": "code",
   "execution_count": null,
   "metadata": {},
   "outputs": [],
   "source": []
  }
 ],
 "metadata": {
  "kernelspec": {
   "display_name": "Python 3",
   "language": "python",
   "name": "python3"
  },
  "language_info": {
   "codemirror_mode": {
    "name": "ipython",
    "version": 3
   },
   "file_extension": ".py",
   "mimetype": "text/x-python",
   "name": "python",
   "nbconvert_exporter": "python",
   "pygments_lexer": "ipython3",
   "version": "3.6.8"
  }
 },
 "nbformat": 4,
 "nbformat_minor": 2
}
