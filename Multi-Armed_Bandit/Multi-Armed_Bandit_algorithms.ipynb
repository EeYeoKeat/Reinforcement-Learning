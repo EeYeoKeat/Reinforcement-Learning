{
 "cells": [
  {
   "cell_type": "code",
   "execution_count": 1,
   "metadata": {},
   "outputs": [],
   "source": [
    "import numpy as np\n",
    "import pandas as pd\n",
    "import matplotlib.pyplot as plt\n",
    "import gym_bandits\n",
    "import gym\n",
    "import math\n",
    "\n",
    "env = gym.make(\"BanditTenArmedGaussian-v0\")"
   ]
  },
  {
   "cell_type": "code",
   "execution_count": 2,
   "metadata": {},
   "outputs": [
    {
     "data": {
      "text/plain": [
       "Discrete(10)"
      ]
     },
     "execution_count": 2,
     "metadata": {},
     "output_type": "execute_result"
    }
   ],
   "source": [
    "env.action_space"
   ]
  },
  {
   "cell_type": "markdown",
   "metadata": {},
   "source": [
    "## Epsilon Greedy Policy"
   ]
  },
  {
   "cell_type": "code",
   "execution_count": 64,
   "metadata": {},
   "outputs": [],
   "source": [
    "class EpsilonGreedyPolicy:\n",
    "    def __init__(self):\n",
    "        self.Q = self.initialize_zeros(10)\n",
    "        self.sum_rewards = self.initialize_zeros(10)\n",
    "        self.count = self.initialize_zeros(10)\n",
    "    \n",
    "    def initialize_zeros(self, num_arms):\n",
    "        return np.zeros(num_arms)\n",
    "    \n",
    "    def epsilon_greedy(self, epsilon):\n",
    "        if np.random.random() < epsilon:\n",
    "            action = env.action_space.sample()\n",
    "        else: \n",
    "            action = np.argmax(self.Q)  \n",
    "        return action\n",
    "    \n",
    "    def pull_arm(self, num_rounds, epsilon):\n",
    "        for i in range(num_rounds):\n",
    "            \n",
    "            # Select the arm using epsilon greedy\n",
    "            arm = self.epsilon_greedy(epsilon)\n",
    "\n",
    "            # Get the reward\n",
    "            observation, reward, done, info = env.step(arm)\n",
    "\n",
    "            # update the count of that arm\n",
    "            self.count[arm] += 1\n",
    "\n",
    "            # Sum the rewards obtained from the arm\n",
    "            self.sum_rewards[arm]+=reward\n",
    "\n",
    "            # calculate Q value which is the average rewards of the arm\n",
    "            self.Q[arm] = self.sum_rewards[arm]/self.count[arm]\n",
    "        \n",
    "        print('Completed. The optimal arm is {}'.format(np.argmax(self.Q)))\n",
    "    \n",
    "    def check_Q(self):\n",
    "        # print(\"The Q-values are:\\n\",self.Q)\n",
    "        return self.Q\n",
    "    \n",
    "    def check_sum_rewards(self):\n",
    "        # print(\"The rewards sum are:\\n\",self.sum_rewards)\n",
    "        return self.sum_rewards\n",
    "        \n",
    "    def check_arm_count(self):\n",
    "        # print(\"Counts of each arm:\\n\",self.count)\n",
    "        return self.count"
   ]
  },
  {
   "cell_type": "code",
   "execution_count": 65,
   "metadata": {},
   "outputs": [],
   "source": [
    "def random_play(arm):\n",
    "    observation, reward, done, info = env.step(arm)\n",
    "    print('Pull arm: ', arm)\n",
    "    print('Observation: ', observation)\n",
    "    print('Reward: ', reward)"
   ]
  },
  {
   "cell_type": "code",
   "execution_count": 73,
   "metadata": {},
   "outputs": [
    {
     "name": "stdout",
     "output_type": "stream",
     "text": [
      "Completed. The optimal arm is 3\n",
      "\n",
      "The Q-values are:\n",
      " [ 0.29515509  0.20178608 -0.32846836  2.57834735 -0.22779266 -0.28418705\n",
      "  0.76923205 -2.52409543  0.93944128  1.62677252]\n",
      "\n",
      "The rewards sum are:\n",
      " [  531.57431101   370.88281741  -597.81241472  9679.11594472\n",
      "  -417.7717443   -508.41064087  1351.54071166 -4548.41995796\n",
      "  1737.0269249   2856.61254274]\n",
      "\n",
      "Counts of each arm:\n",
      " [1801. 1838. 1820. 3754. 1834. 1789. 1757. 1802. 1849. 1756.]\n",
      "\n"
     ]
    }
   ],
   "source": [
    "num_epochs = 20000\n",
    "epsilon_greedy_policy = EpsilonGreedyPolicy()\n",
    "epsilon_greedy_policy.pull_arm(num_epochs, 0.9)\n",
    "print()\n",
    "Q_values = epsilon_greedy_policy.check_Q()\n",
    "print(\"The Q-values are:\\n\",Q_values)\n",
    "print()\n",
    "rewards = epsilon_greedy_policy.check_sum_rewards()\n",
    "print(\"The rewards sum are:\\n\", rewards)\n",
    "print()\n",
    "arm_count = epsilon_greedy_policy.check_arm_count()\n",
    "print(\"Counts of each arm:\\n\", arm_count)\n",
    "print()"
   ]
  },
  {
   "cell_type": "code",
   "execution_count": 74,
   "metadata": {},
   "outputs": [],
   "source": [
    "def plot_arm_count(arm_count):\n",
    "    x = np.arange(10)\n",
    "    freq = arm_count\n",
    "    width = 0.8 # width of the bars\n",
    "    fig, ax = plt.subplots()\n",
    "    rects1 = ax.bar(x, freq, width, color='g')\n",
    "\n",
    "    ax.set_ylabel('Counts')\n",
    "    ax.set_xlabel('Arm Index')\n",
    "    plt.xticks(np.arange(0, 10, 1.0))\n",
    "\n",
    "    def autolabel(rects):\n",
    "        # attach some text labels\n",
    "        for rect in rects:\n",
    "            height = rect.get_height()\n",
    "            ax.text(rect.get_x() + rect.get_width()/2., 1.05*height,\n",
    "                    '%d' % int(height),\n",
    "                    ha='center', va='bottom')\n",
    "\n",
    "    autolabel(rects1)\n",
    "\n",
    "    plt.show()"
   ]
  },
  {
   "cell_type": "code",
   "execution_count": 55,
   "metadata": {},
   "outputs": [
    {
     "data": {
      "image/png": "[encoded data removed]",
      "text/plain": [
       "<Figure size 432x288 with 1 Axes>"
      ]
     },
     "metadata": {
      "needs_background": "light"
     },
     "output_type": "display_data"
    }
   ],
   "source": [
    "epsilon_greedy_policy.plot_arm_count(epsilon_greedy_policy.count)"
   ]
  },
  {
   "cell_type": "code",
   "execution_count": 36,
   "metadata": {},
   "outputs": [
    {
     "data": {
      "image/png": "[encoded data removed]",
      "text/plain": [
       "<Figure size 432x288 with 2 Axes>"
      ]
     },
     "metadata": {
      "needs_background": "light"
     },
     "output_type": "display_data"
    }
   ],
   "source": [
    "arm = np.arange(0.1, 10, 1)\n",
    "\n",
    "fig, ax1 = plt.subplots()\n",
    "\n",
    "color = 'tab:red'\n",
    "ax1.set_xlabel('Arm Index')\n",
    "ax1.set_ylabel('Q values', color=color)\n",
    "ax1.plot(arm, Q_values, color=color)\n",
    "ax1.tick_params(axis='y', labelcolor=color)\n",
    "\n",
    "ax2 = ax1.twinx()  # instantiate a second axes that shares the same x-axis\n",
    "\n",
    "color = 'tab:blue'\n",
    "ax2.set_ylabel('Sum Rewards', color=color) \n",
    "ax2.plot(arm, rewards, color=color)\n",
    "ax2.tick_params(axis='y', labelcolor=color)\n",
    "\n",
    "fig.tight_layout()\n",
    "plt.xticks(np.arange(0, 10, 1.0))\n",
    "plt.show()"
   ]
  },
  {
   "cell_type": "markdown",
   "metadata": {},
   "source": [
    "#### How does the epsilon values affect the final selection of optimal arm?"
   ]
  },
  {
   "cell_type": "code",
   "execution_count": 81,
   "metadata": {
    "scrolled": true
   },
   "outputs": [
    {
     "name": "stdout",
     "output_type": "stream",
     "text": [
      "When epsilon =  0.1\n",
      "Completed. The optimal arm is 3\n"
     ]
    },
    {
     "data": {
      "image/png": "[encoded data removed]",
      "text/plain": [
       "<Figure size 432x288 with 1 Axes>"
      ]
     },
     "metadata": {
      "needs_background": "light"
     },
     "output_type": "display_data"
    },
    {
     "name": "stdout",
     "output_type": "stream",
     "text": [
      "When epsilon =  0.3\n",
      "Completed. The optimal arm is 3\n"
     ]
    },
    {
     "data": {
      "image/png": "[encoded data removed]",
      "text/plain": [
       "<Figure size 432x288 with 1 Axes>"
      ]
     },
     "metadata": {
      "needs_background": "light"
     },
     "output_type": "display_data"
    },
    {
     "name": "stdout",
     "output_type": "stream",
     "text": [
      "When epsilon =  0.6\n",
      "Completed. The optimal arm is 3\n"
     ]
    },
    {
     "data": {
      "image/png": "[encoded data removed]",
      "text/plain": [
       "<Figure size 432x288 with 1 Axes>"
      ]
     },
     "metadata": {
      "needs_background": "light"
     },
     "output_type": "display_data"
    },
    {
     "name": "stdout",
     "output_type": "stream",
     "text": [
      "When epsilon =  0.9\n",
      "Completed. The optimal arm is 3\n"
     ]
    },
    {
     "data": {
      "image/png": "[encoded data removed]",
      "text/plain": [
       "<Figure size 432x288 with 1 Axes>"
      ]
     },
     "metadata": {
      "needs_background": "light"
     },
     "output_type": "display_data"
    }
   ],
   "source": [
    "epsilon_values = [0.1, 0.3, 0.6, 0.9]\n",
    "for ep in epsilon_values:\n",
    "    print('When epsilon = ', ep)\n",
    "    epsilon_greedy_policy = EpsilonGreedyPolicy()\n",
    "    epsilon_greedy_policy.pull_arm(num_epochs, ep)\n",
    "    arm_count = epsilon_greedy_policy.check_arm_count()\n",
    "    plot_arm_count(arm_count)"
   ]
  },
  {
   "cell_type": "markdown",
   "metadata": {},
   "source": [
    "#### Observation\n",
    "\n",
    "1. The selection of optimal arm is always the same in the same game regardless the epsilon value. \n",
    "2. For epsilon value set at 0.1, it is follow greedy action which choose the arm that pay maximum reward. Therefore, the count of that arm selected is highest.\n",
    "2. When epsilon value increased, all other non-best arms are also have been selected due to high exploration rate. Therefore, the count of that arm selected is increased."
   ]
  },
  {
   "cell_type": "markdown",
   "metadata": {},
   "source": [
    "## Softmax Exploration Policy"
   ]
  },
  {
   "cell_type": "code",
   "execution_count": 11,
   "metadata": {},
   "outputs": [],
   "source": [
    "class SoftmaxExploration:\n",
    "    def __init__(self):\n",
    "        self.Q = self.initialize_zeros(10)\n",
    "        self.sum_rewards = self.initialize_zeros(10)\n",
    "        self.count = self.initialize_zeros(10)\n",
    "\n",
    "    def initialize_zeros(self, num_arms):\n",
    "        return np.zeros(num_arms)\n",
    "    \n",
    "    def softmax_probability(self, tau):\n",
    "        total = sum([math.exp(val/tau) for val in self.Q])\n",
    "        probs = [math.exp(val/tau)/total for val in self.Q]\n",
    "        threshold = np.random.random()\n",
    "        cumulative_prob = 0.0\n",
    "\n",
    "        for i in range(len(probs)):\n",
    "            cumulative_prob += probs[i]\n",
    "            if (cumulative_prob > threshold):\n",
    "                return i\n",
    "        return np.argmax(probs)\n",
    "    \n",
    "    def pull_arm(self, num_rounds):\n",
    "        for i in range(num_rounds):\n",
    "            \n",
    "            # Select the arm using softmax\n",
    "            arm = self.softmax_probability(0.5)\n",
    "            observation, reward, done, info = env.step(arm)\n",
    "            self.count[arm] += 1\n",
    "            self.sum_rewards[arm]+=reward\n",
    "            self.Q[arm] = self.sum_rewards[arm]/self.count[arm]\n",
    "        \n",
    "        print('Completed. The optimal arm is {}'.format(np.argmax(self.Q)))\n",
    "    \n",
    "    def check_Q(self):\n",
    "        print(\"The Q-values are:\\n\",self.Q)\n",
    "    \n",
    "    def check_sum_rewards(self):\n",
    "        print(\"The rewards sum are:\\n\",self.sum_rewards)\n",
    "        \n",
    "    def check_arm_count(self):\n",
    "        print(\"Counts of each arm:\\n\",self.count)\n",
    "        \n",
    "    def plot_arm_count(self, arm):\n",
    "        x = np.arange(10)\n",
    "        freq = arm\n",
    "        width = 0.8 # width of the bars\n",
    "        fig, ax = plt.subplots()\n",
    "        rects1 = ax.bar(x, freq, width, color='m')\n",
    "\n",
    "        ax.set_ylabel('Counts')\n",
    "        ax.set_xlabel('Arm')\n",
    "        plt.xticks(np.arange(0, 10, 1.0))\n",
    "\n",
    "        def autolabel(rects):\n",
    "            # attach some text labels\n",
    "            for rect in rects:\n",
    "                height = rect.get_height()\n",
    "                ax.text(rect.get_x() + rect.get_width()/2., 1.05*height,\n",
    "                        '%d' % int(height),\n",
    "                        ha='center', va='bottom')\n",
    "\n",
    "        autolabel(rects1)\n",
    "        plt.show()"
   ]
  },
  {
   "cell_type": "code",
   "execution_count": 12,
   "metadata": {},
   "outputs": [
    {
     "name": "stdout",
     "output_type": "stream",
     "text": [
      "Completed. The optimal arm is 3\n",
      "\n",
      "The Q-values are:\n",
      " [ 0.21472437  0.18430432 -0.36192073  2.59059015 -0.13535974 -0.72845301\n",
      "  0.79352772 -4.11985361  0.96320192  1.66458103]\n",
      "\n",
      "The rewards sum are:\n",
      " [ 3.62884190e+01  2.19322146e+01 -1.48387501e+01  4.22007136e+04\n",
      " -9.06910242e+00 -3.64226503e+00  2.91224672e+02 -4.11985361e+00\n",
      "  5.36503467e+02  3.96836118e+03]\n",
      "\n",
      "Counts of each arm:\n",
      " [1.690e+02 1.190e+02 4.100e+01 1.629e+04 6.700e+01 5.000e+00 3.670e+02\n",
      " 1.000e+00 5.570e+02 2.384e+03]\n"
     ]
    }
   ],
   "source": [
    "num_epochs = 20000\n",
    "softmax_policy = SoftmaxExploration()\n",
    "softmax_policy.pull_arm(num_epochs)\n",
    "print()\n",
    "softmax_policy.check_Q()\n",
    "print()\n",
    "softmax_policy.check_sum_rewards()\n",
    "print()\n",
    "softmax_policy.check_arm_count()"
   ]
  },
  {
   "cell_type": "code",
   "execution_count": 13,
   "metadata": {
    "scrolled": true
   },
   "outputs": [
    {
     "data": {
      "image/png": "[encoded data removed]",
      "text/plain": [
       "<Figure size 432x288 with 1 Axes>"
      ]
     },
     "metadata": {
      "needs_background": "light"
     },
     "output_type": "display_data"
    }
   ],
   "source": [
    "softmax_policy.plot_arm_count(softmax_policy.count)"
   ]
  },
  {
   "cell_type": "code",
   "execution_count": null,
   "metadata": {},
   "outputs": [],
   "source": [
    "class UpperConfidenceBound:\n",
    "    def __init__(self):\n",
    "        self.Q = self.initialize_zeros(10)\n",
    "        self.sum_rewards = self.initialize_zeros(10)\n",
    "        self.count = self.initialize_zeros(10)\n",
    "\n",
    "    def initialize_zeros(self, num_arms):\n",
    "        return np.zeros(num_arms)\n",
    "    \n",
    "    def softmax_probability(self, tau):\n",
    "        total = sum([math.exp(val/tau) for val in self.Q])\n",
    "        probs = [math.exp(val/tau)/total for val in self.Q]\n",
    "        threshold = np.random.random()\n",
    "        cumulative_prob = 0.0\n",
    "\n",
    "        for i in range(len(probs)):\n",
    "            cumulative_prob += probs[i]\n",
    "            if (cumulative_prob > threshold):\n",
    "                return i\n",
    "        return np.argmax(probs)\n",
    "    \n",
    "    def pull_arm(self, num_rounds):\n",
    "        for i in range(num_rounds):\n",
    "            \n",
    "            # Select the arm using softmax\n",
    "            arm = self.softmax_probability(0.5)\n",
    "            observation, reward, done, info = env.step(arm)\n",
    "            self.count[arm] += 1\n",
    "            self.sum_rewards[arm]+=reward\n",
    "            self.Q[arm] = self.sum_rewards[arm]/self.count[arm]\n",
    "        \n",
    "        print('Completed. The optimal arm is {}'.format(np.argmax(self.Q)))\n",
    "    \n",
    "    def check_Q(self):\n",
    "        print(\"The Q-values are:\\n\",self.Q)\n",
    "    \n",
    "    def check_sum_rewards(self):\n",
    "        print(\"The rewards sum are:\\n\",self.sum_rewards)\n",
    "        \n",
    "    def check_arm_count(self):\n",
    "        print(\"Counts of each arm:\\n\",self.count)\n",
    "        \n",
    "    def plot_arm_count(self, arm):\n",
    "        x = np.arange(10)\n",
    "        freq = arm\n",
    "        width = 0.8 # width of the bars\n",
    "        fig, ax = plt.subplots()\n",
    "        rects1 = ax.bar(x, freq, width, color='m')\n",
    "\n",
    "        ax.set_ylabel('Counts')\n",
    "        ax.set_xlabel('Arm')\n",
    "        plt.xticks(np.arange(0, 10, 1.0))\n",
    "\n",
    "        def autolabel(rects):\n",
    "            # attach some text labels\n",
    "            for rect in rects:\n",
    "                height = rect.get_height()\n",
    "                ax.text(rect.get_x() + rect.get_width()/2., 1.05*height,\n",
    "                        '%d' % int(height),\n",
    "                        ha='center', va='bottom')\n",
    "\n",
    "        autolabel(rects1)\n",
    "        plt.show()"
   ]
  },
  {
   "cell_type": "code",
   "execution_count": 32,
   "metadata": {},
   "outputs": [],
   "source": [
    "def UCB(iters):\n",
    "    \n",
    "    ucb = np.zeros(10)\n",
    "    \n",
    "    # check if consists at least 10 sample\n",
    "    if iters < 10:\n",
    "        return i \n",
    "    else:\n",
    "        for arm in range(10):\n",
    "            # calculate upper bound\n",
    "            upper_bound = math.sqrt((2*math.log(sum(count))) / count[arm])\n",
    "            \n",
    "            # add upper bound to the Q value\n",
    "            ucb[arm] = Q_UCB[arm] + upper_bound\n",
    "        \n",
    "    # return the arm which has maximum value\n",
    "    return (np.argmax(ucb))"
   ]
  },
  {
   "cell_type": "code",
   "execution_count": 33,
   "metadata": {},
   "outputs": [
    {
     "name": "stdout",
     "output_type": "stream",
     "text": [
      "The optimal arm is 0\n"
     ]
    }
   ],
   "source": [
    "for i in range(num_rounds):\n",
    "    \n",
    "    # Select the arm using UCB\n",
    "    arm = UCB(i)\n",
    "\n",
    "    observation, reward, done, info = env.step(arm)\n",
    "    \n",
    "    # update the count of that arm\n",
    "    count[arm] += 1\n",
    "    \n",
    "    # Sum the rewards obtained from the arm\n",
    "    sum_rewards[arm]+=reward\n",
    "    \n",
    "    # calculate Q value which is the average rewards of the arm\n",
    "    Q_UCB[arm] = sum_rewards[arm]/count[arm]\n",
    "    \n",
    "print( 'The optimal arm is {}'.format(np.argmax(Q)))"
   ]
  },
  {
   "cell_type": "code",
   "execution_count": 39,
   "metadata": {},
   "outputs": [
    {
     "name": "stdout",
     "output_type": "stream",
     "text": [
      "The optimal arm is 0\n"
     ]
    }
   ],
   "source": [
    "def thompson_sampling(alpha,beta):\n",
    "    samples = [np.random.beta(alpha[i]+1,beta[i]+1) for i in range(10)]\n",
    "    return np.argmax(samples)\n",
    "\n",
    "for i in range(num_rounds):\n",
    "\n",
    "    arm = thompson_sampling(alpha,beta)\n",
    "\n",
    "    observation, reward, done, info = env.step(arm)\n",
    "\n",
    "    count[arm] += 1\n",
    "\n",
    "    sum_rewards[arm]+=reward\n",
    "\n",
    "    Q[arm] = sum_rewards[arm]/count[arm]\n",
    "    \n",
    "    # If it is a positive reward increment alpha\n",
    "    if reward >0:\n",
    "        alpha[arm] += 1\n",
    "    # If it is a negative reward increment beta\n",
    "    else:\n",
    "        beta[arm] += 1\n",
    "\n",
    "print( 'The optimal arm is {}'.format(np.argmax(Q)))"
   ]
  },
  {
   "cell_type": "code",
   "execution_count": 16,
   "metadata": {},
   "outputs": [
    {
     "name": "stdout",
     "output_type": "stream",
     "text": [
      "The optimal arm is 4\n"
     ]
    }
   ],
   "source": [
    "for i in range(num_rounds):\n",
    "\n",
    "    # arm using epsilon greedy\n",
    "    arm = epsilon_greedy(0.5)\n",
    "    \n",
    "    # arm using softmax\n",
    "    arm = softmax(0.5)\n",
    "\n",
    "    observation, reward, done, info = env.step(arm)\n",
    "\n",
    "    count[arm] += 1\n",
    "\n",
    "    sum_rewards[arm]+=reward\n",
    "\n",
    "    # calculate Q value which is the average rewards of the arm\n",
    "    Q[arm] = sum_rewards[arm]/count[arm]\n",
    "    \n",
    "print( 'The optimal arm is {}'.format(np.argmax(Q)))"
   ]
  },
  {
   "cell_type": "code",
   "execution_count": 18,
   "metadata": {},
   "outputs": [
    {
     "data": {
      "text/plain": [
       "array([ 1.19831264,  0.33350828,  0.76601153, -0.3355797 ,  2.0204708 ,\n",
       "       -0.98286558,  1.66036175, -0.47403209,  0.23711068, -0.55311812])"
      ]
     },
     "execution_count": 18,
     "metadata": {},
     "output_type": "execute_result"
    }
   ],
   "source": [
    "Q"
   ]
  },
  {
   "cell_type": "code",
   "execution_count": null,
   "metadata": {},
   "outputs": [],
   "source": []
  }
 ],
 "metadata": {
  "kernelspec": {
   "display_name": "Python 3",
   "language": "python",
   "name": "python3"
  },
  "language_info": {
   "codemirror_mode": {
    "name": "ipython",
    "version": 3
   },
   "file_extension": ".py",
   "mimetype": "text/x-python",
   "name": "python",
   "nbconvert_exporter": "python",
   "pygments_lexer": "ipython3",
   "version": "3.6.8"
  }
 },
 "nbformat": 4,
 "nbformat_minor": 2
}
