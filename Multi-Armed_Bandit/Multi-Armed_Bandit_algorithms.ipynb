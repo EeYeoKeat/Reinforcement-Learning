{
 "cells": [
  {
   "cell_type": "code",
   "execution_count": 1,
   "metadata": {},
   "outputs": [],
   "source": [
    "import numpy as np\n",
    "import pandas as pd\n",
    "import matplotlib.pyplot as plt\n",
    "import gym_bandits\n",
    "import gym\n",
    "import math\n",
    "\n",
    "env = gym.make(\"BanditTenArmedGaussian-v0\")"
   ]
  },
  {
   "cell_type": "code",
   "execution_count": 2,
   "metadata": {},
   "outputs": [
    {
     "data": {
      "text/plain": [
       "Discrete(10)"
      ]
     },
     "execution_count": 2,
     "metadata": {},
     "output_type": "execute_result"
    }
   ],
   "source": [
    "env.action_space"
   ]
  },
  {
   "cell_type": "markdown",
   "metadata": {},
   "source": [
    "## Epsilon Greedy Policy"
   ]
  },
  {
   "cell_type": "code",
   "execution_count": 91,
   "metadata": {},
   "outputs": [],
   "source": [
    "class EpsilonGreedyPolicy:\n",
    "    def __init__(self):\n",
    "        self.Q = self.initialize_zeros(10)\n",
    "        self.sum_rewards = self.initialize_zeros(10)\n",
    "        self.count = self.initialize_zeros(10)\n",
    "    \n",
    "    def initialize_zeros(self, num_arms):\n",
    "        return np.zeros(num_arms)\n",
    "    \n",
    "    def epsilon_greedy(self, epsilon):\n",
    "        if np.random.random() < epsilon:\n",
    "            action = env.action_space.sample()\n",
    "        else: \n",
    "            action = np.argmax(self.Q)  \n",
    "        return action\n",
    "    \n",
    "    def pull_arm(self, num_rounds):\n",
    "        for i in range(num_rounds):\n",
    "            \n",
    "            # Select the arm using epsilon greedy\n",
    "            arm = self.epsilon_greedy(0.5)\n",
    "\n",
    "            # Get the reward\n",
    "            observation, reward, done, info = env.step(arm)\n",
    "\n",
    "            # update the count of that arm\n",
    "            self.count[arm] += 1\n",
    "\n",
    "            # Sum the rewards obtained from the arm\n",
    "            self.sum_rewards[arm]+=reward\n",
    "\n",
    "            # calculate Q value which is the average rewards of the arm\n",
    "            self.Q[arm] = self.sum_rewards[arm]/self.count[arm]\n",
    "        \n",
    "        print('Completed. The optimal arm is {}'.format(np.argmax(self.Q)))\n",
    "    \n",
    "    def check_Q(self):\n",
    "        print(\"The Q-values are:\\n\",self.Q)\n",
    "    \n",
    "    def check_sum_rewards(self):\n",
    "        print(\"The rewards sum are:\\n\",self.sum_rewards)\n",
    "        \n",
    "    def check_arm_count(self):\n",
    "        print(\"Counts of each arm:\\n\",self.count)\n",
    "        \n",
    "    def plot_arm_count(self, arm):\n",
    "        x = np.arange(10)\n",
    "        freq = arm\n",
    "        width = 0.8 # width of the bars\n",
    "        fig, ax = plt.subplots()\n",
    "        rects1 = ax.bar(x, freq, width, color='g')\n",
    "\n",
    "        ax.set_ylabel('Counts')\n",
    "        ax.set_xlabel('Arm')\n",
    "        plt.xticks(np.arange(0, 10, 1.0))\n",
    "\n",
    "        def autolabel(rects):\n",
    "            # attach some text labels\n",
    "            for rect in rects:\n",
    "                height = rect.get_height()\n",
    "                ax.text(rect.get_x() + rect.get_width()/2., 1.05*height,\n",
    "                        '%d' % int(height),\n",
    "                        ha='center', va='bottom')\n",
    "\n",
    "        autolabel(rects1)\n",
    "\n",
    "        plt.show()"
   ]
  },
  {
   "cell_type": "code",
   "execution_count": 92,
   "metadata": {},
   "outputs": [
    {
     "name": "stdout",
     "output_type": "stream",
     "text": [
      "Completed. The optimal arm is 5\n",
      "\n",
      "The Q-values are:\n",
      " [-1.21885008 -0.96572249 -0.73974698 -0.38769185 -0.05345502  1.41690208\n",
      " -1.54942927 -0.32392298 -0.53177997  0.26095474]\n",
      "\n",
      "The rewards sum are:\n",
      " [-1181.06572785  -945.44231791  -746.40470238  -380.7133992\n",
      "   -52.54628543 15669.52013448 -1640.8455961   -302.86798414\n",
      "  -529.65285176   268.5224243 ]\n",
      "\n",
      "Counts of each arm:\n",
      " [  969.   979.  1009.   982.   983. 11059.  1059.   935.   996.  1029.]\n"
     ]
    }
   ],
   "source": [
    "num_epochs = 20000\n",
    "epsilon_greedy_policy = EpsilonGreedyPolicy()\n",
    "epsilon_greedy_policy.pull_arm(num_epochs)\n",
    "print()\n",
    "epsilon_greedy_policy.check_Q()\n",
    "print()\n",
    "epsilon_greedy_policy.check_sum_rewards()\n",
    "print()\n",
    "epsilon_greedy_policy.check_arm_count()"
   ]
  },
  {
   "cell_type": "code",
   "execution_count": 94,
   "metadata": {},
   "outputs": [
    {
     "data": {
      "image/png": "[encoded data removed]",
      "text/plain": [
       "<Figure size 432x288 with 1 Axes>"
      ]
     },
     "metadata": {
      "needs_background": "light"
     },
     "output_type": "display_data"
    }
   ],
   "source": [
    "epsilon_greedy_policy.plot_arm_count(epsilon_greedy_policy.count)"
   ]
  },
  {
   "cell_type": "markdown",
   "metadata": {},
   "source": [
    "## Softmax Exploration Policy"
   ]
  },
  {
   "cell_type": "code",
   "execution_count": 101,
   "metadata": {},
   "outputs": [],
   "source": [
    "class SoftmaxExploration:\n",
    "    def __init__(self):\n",
    "        self.Q = self.initialize_zeros(10)\n",
    "        self.sum_rewards = self.initialize_zeros(10)\n",
    "        self.count = self.initialize_zeros(10)\n",
    "\n",
    "    def initialize_zeros(self, num_arms):\n",
    "        return np.zeros(num_arms)\n",
    "    \n",
    "    def softmax_probability(self, tau):\n",
    "        total = sum([math.exp(val/tau) for val in self.Q])\n",
    "        probs = [math.exp(val/tau)/total for val in self.Q]\n",
    "        threshold = np.random.random()\n",
    "        cumulative_prob = 0.0\n",
    "\n",
    "        for i in range(len(probs)):\n",
    "            cumulative_prob += probs[i]\n",
    "            if (cumulative_prob > threshold):\n",
    "                return i\n",
    "        return np.argmax(probs)\n",
    "    \n",
    "    def pull_arm(self, num_rounds):\n",
    "        for i in range(num_rounds):\n",
    "            \n",
    "            # Select the arm using softmax\n",
    "            arm = self.softmax_probability(0.5)\n",
    "            observation, reward, done, info = env.step(arm)\n",
    "            self.count[arm] += 1\n",
    "            self.sum_rewards[arm]+=reward\n",
    "            self.Q[arm] = self.sum_rewards[arm]/self.count[arm]\n",
    "        \n",
    "        print('Completed. The optimal arm is {}'.format(np.argmax(self.Q)))\n",
    "    \n",
    "    def check_Q(self):\n",
    "        print(\"The Q-values are:\\n\",self.Q)\n",
    "    \n",
    "    def check_sum_rewards(self):\n",
    "        print(\"The rewards sum are:\\n\",self.sum_rewards)\n",
    "        \n",
    "    def check_arm_count(self):\n",
    "        print(\"Counts of each arm:\\n\",self.count)\n",
    "        \n",
    "    def plot_arm_count(self, arm):\n",
    "        x = np.arange(10)\n",
    "        freq = arm\n",
    "        width = 0.8 # width of the bars\n",
    "        fig, ax = plt.subplots()\n",
    "        rects1 = ax.bar(x, freq, width, color='m')\n",
    "\n",
    "        ax.set_ylabel('Counts')\n",
    "        ax.set_xlabel('Arm')\n",
    "        plt.xticks(np.arange(0, 10, 1.0))\n",
    "\n",
    "        def autolabel(rects):\n",
    "            # attach some text labels\n",
    "            for rect in rects:\n",
    "                height = rect.get_height()\n",
    "                ax.text(rect.get_x() + rect.get_width()/2., 1.05*height,\n",
    "                        '%d' % int(height),\n",
    "                        ha='center', va='bottom')\n",
    "\n",
    "        autolabel(rects1)\n",
    "        plt.show()"
   ]
  },
  {
   "cell_type": "code",
   "execution_count": 102,
   "metadata": {},
   "outputs": [
    {
     "name": "stdout",
     "output_type": "stream",
     "text": [
      "Completed. The optimal arm is 5\n",
      "\n",
      "The Q-values are:\n",
      " [-1.91536428 -0.85127048 -0.6582483  -0.44891601 -0.01759642  1.41377236\n",
      " -1.49691825 -0.27596157 -0.48610478  0.30344795]\n",
      "\n",
      "The rewards sum are:\n",
      " [-9.57682140e+00 -1.22582949e+02 -1.48764116e+02 -1.72832662e+02\n",
      " -1.60479318e+01  2.20704004e+04 -8.23305039e+01 -1.56194247e+02\n",
      " -2.02219590e+02  5.09792548e+02]\n",
      "\n",
      "Counts of each arm:\n",
      " [5.0000e+00 1.4400e+02 2.2600e+02 3.8500e+02 9.1200e+02 1.5611e+04\n",
      " 5.5000e+01 5.6600e+02 4.1600e+02 1.6800e+03]\n"
     ]
    }
   ],
   "source": [
    "num_epochs = 20000\n",
    "softmax_policy = SoftmaxExploration()\n",
    "softmax_policy.pull_arm(num_epochs)\n",
    "print()\n",
    "softmax_policy.check_Q()\n",
    "print()\n",
    "softmax_policy.check_sum_rewards()\n",
    "print()\n",
    "softmax_policy.check_arm_count()"
   ]
  },
  {
   "cell_type": "code",
   "execution_count": 103,
   "metadata": {},
   "outputs": [
    {
     "data": {
      "image/png": "[encoded data removed]",
      "text/plain": [
       "<Figure size 432x288 with 1 Axes>"
      ]
     },
     "metadata": {
      "needs_background": "light"
     },
     "output_type": "display_data"
    }
   ],
   "source": [
    "softmax_policy.plot_arm_count(softmax_policy.count)"
   ]
  },
  {
   "cell_type": "code",
   "execution_count": 32,
   "metadata": {},
   "outputs": [],
   "source": [
    "def UCB(iters):\n",
    "    \n",
    "    ucb = np.zeros(10)\n",
    "    \n",
    "    # check if consists at least 10 sample\n",
    "    if iters < 10:\n",
    "        return i \n",
    "    else:\n",
    "        for arm in range(10):\n",
    "            # calculate upper bound\n",
    "            upper_bound = math.sqrt((2*math.log(sum(count))) / count[arm])\n",
    "            \n",
    "            # add upper bound to the Q value\n",
    "            ucb[arm] = Q_UCB[arm] + upper_bound\n",
    "        \n",
    "    # return the arm which has maximum value\n",
    "    return (np.argmax(ucb))"
   ]
  },
  {
   "cell_type": "code",
   "execution_count": 33,
   "metadata": {},
   "outputs": [
    {
     "name": "stdout",
     "output_type": "stream",
     "text": [
      "The optimal arm is 0\n"
     ]
    }
   ],
   "source": [
    "for i in range(num_rounds):\n",
    "    \n",
    "    # Select the arm using UCB\n",
    "    arm = UCB(i)\n",
    "\n",
    "    observation, reward, done, info = env.step(arm)\n",
    "    \n",
    "    # update the count of that arm\n",
    "    count[arm] += 1\n",
    "    \n",
    "    # Sum the rewards obtained from the arm\n",
    "    sum_rewards[arm]+=reward\n",
    "    \n",
    "    # calculate Q value which is the average rewards of the arm\n",
    "    Q_UCB[arm] = sum_rewards[arm]/count[arm]\n",
    "    \n",
    "print( 'The optimal arm is {}'.format(np.argmax(Q)))"
   ]
  },
  {
   "cell_type": "code",
   "execution_count": 39,
   "metadata": {},
   "outputs": [
    {
     "name": "stdout",
     "output_type": "stream",
     "text": [
      "The optimal arm is 0\n"
     ]
    }
   ],
   "source": [
    "def thompson_sampling(alpha,beta):\n",
    "    samples = [np.random.beta(alpha[i]+1,beta[i]+1) for i in range(10)]\n",
    "    return np.argmax(samples)\n",
    "\n",
    "for i in range(num_rounds):\n",
    "\n",
    "    arm = thompson_sampling(alpha,beta)\n",
    "\n",
    "    observation, reward, done, info = env.step(arm)\n",
    "\n",
    "    count[arm] += 1\n",
    "\n",
    "    sum_rewards[arm]+=reward\n",
    "\n",
    "    Q[arm] = sum_rewards[arm]/count[arm]\n",
    "    \n",
    "    # If it is a positive reward increment alpha\n",
    "    if reward >0:\n",
    "        alpha[arm] += 1\n",
    "    # If it is a negative reward increment beta\n",
    "    else:\n",
    "        beta[arm] += 1\n",
    "\n",
    "print( 'The optimal arm is {}'.format(np.argmax(Q)))"
   ]
  },
  {
   "cell_type": "code",
   "execution_count": 16,
   "metadata": {},
   "outputs": [
    {
     "name": "stdout",
     "output_type": "stream",
     "text": [
      "The optimal arm is 4\n"
     ]
    }
   ],
   "source": [
    "for i in range(num_rounds):\n",
    "\n",
    "    # arm using epsilon greedy\n",
    "    arm = epsilon_greedy(0.5)\n",
    "    \n",
    "    # arm using softmax\n",
    "    arm = softmax(0.5)\n",
    "\n",
    "    observation, reward, done, info = env.step(arm)\n",
    "\n",
    "    count[arm] += 1\n",
    "\n",
    "    sum_rewards[arm]+=reward\n",
    "\n",
    "    # calculate Q value which is the average rewards of the arm\n",
    "    Q[arm] = sum_rewards[arm]/count[arm]\n",
    "    \n",
    "print( 'The optimal arm is {}'.format(np.argmax(Q)))"
   ]
  },
  {
   "cell_type": "code",
   "execution_count": 18,
   "metadata": {},
   "outputs": [
    {
     "data": {
      "text/plain": [
       "array([ 1.19831264,  0.33350828,  0.76601153, -0.3355797 ,  2.0204708 ,\n",
       "       -0.98286558,  1.66036175, -0.47403209,  0.23711068, -0.55311812])"
      ]
     },
     "execution_count": 18,
     "metadata": {},
     "output_type": "execute_result"
    }
   ],
   "source": [
    "Q"
   ]
  },
  {
   "cell_type": "code",
   "execution_count": null,
   "metadata": {},
   "outputs": [],
   "source": []
  }
 ],
 "metadata": {
  "kernelspec": {
   "display_name": "Python 3",
   "language": "python",
   "name": "python3"
  },
  "language_info": {
   "codemirror_mode": {
    "name": "ipython",
    "version": 3
   },
   "file_extension": ".py",
   "mimetype": "text/x-python",
   "name": "python",
   "nbconvert_exporter": "python",
   "pygments_lexer": "ipython3",
   "version": "3.6.8"
  }
 },
 "nbformat": 4,
 "nbformat_minor": 2
}
